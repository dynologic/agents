{
 "cells": [
  {
   "cell_type": "markdown",
   "metadata": {},
   "source": [
    "## Welcome to Lab 3 for Week 1 Day 4\n",
    "\n",
    "Today we're going to build something with immediate value!\n",
    "\n",
    "In the folder `me` I've put a single file `linkedin.pdf` - it's a PDF download of my LinkedIn profile.\n",
    "\n",
    "Please replace it with yours!\n",
    "\n",
    "I've also made a file called `summary.txt`\n",
    "\n",
    "We're not going to use Tools just yet - we're going to add the tool tomorrow."
   ]
  },
  {
   "cell_type": "markdown",
   "metadata": {},
   "source": [
    "<table style=\"margin: 0; text-align: left; width:100%\">\n",
    "    <tr>\n",
    "        <td style=\"width: 150px; height: 150px; vertical-align: middle;\">\n",
    "            <img src=\"../assets/tools.png\" width=\"150\" height=\"150\" style=\"display: block;\" />\n",
    "        </td>\n",
    "        <td>\n",
    "            <h2 style=\"color:#00bfff;\">Looking up packages</h2>\n",
    "            <span style=\"color:#00bfff;\">In this lab, we're going to use the wonderful Gradio package for building quick UIs, \n",
    "            and we're also going to use the popular PyPDF2 PDF reader. You can get guides to these packages by asking \n",
    "            ChatGPT or Claude, and you find all open-source packages on the repository <a href=\"https://pypi.org\">https://pypi.org</a>.\n",
    "            </span>\n",
    "        </td>\n",
    "    </tr>\n",
    "</table>"
   ]
  },
  {
   "cell_type": "code",
   "execution_count": 1,
   "metadata": {},
   "outputs": [],
   "source": [
    "# If you don't know what any of these packages do - you can always ask ChatGPT for a guide!\n",
    "\n",
    "from dotenv import load_dotenv\n",
    "from openai import OpenAI\n",
    "from pypdf import PdfReader\n",
    "import gradio as gr"
   ]
  },
  {
   "cell_type": "code",
   "execution_count": 2,
   "metadata": {},
   "outputs": [],
   "source": [
    "load_dotenv(override=True)\n",
    "openai = OpenAI()"
   ]
  },
  {
   "cell_type": "code",
   "execution_count": 3,
   "metadata": {},
   "outputs": [],
   "source": [
    "reader = PdfReader(\"me/linkedin_arsalan.pdf\")\n",
    "linkedin = \"\"\n",
    "for page in reader.pages:\n",
    "    text = page.extract_text()\n",
    "    if text:\n",
    "        linkedin += text"
   ]
  },
  {
   "cell_type": "code",
   "execution_count": 4,
   "metadata": {},
   "outputs": [
    {
     "name": "stdout",
     "output_type": "stream",
     "text": [
      "   \n",
      "Contact\n",
      "416 565 7210 (Mobile)\n",
      "dynologic@hotmail.com\n",
      "www.linkedin.com/in/arsalansarwar\n",
      "(LinkedIn)\n",
      "Top Skills\n",
      "Executive Leadership\n",
      "Executive Management\n",
      "Stakeholder Management\n",
      "Certifications\n",
      "Microsoft Certified: Azure AI\n",
      "Fundamentals\n",
      "Arsalan Sarwar\n",
      "Engineering Executive | Agile Transformation Leader | Scaling High-\n",
      "Performance Global Teams Through AI & Cloud Innovation | 250+\n",
      "Global Team | $60M+ P&L\n",
      "Bradford, Ontario, Canada\n",
      "Summary\n",
      "I’m a hands-on and authentic technology leader with 20+ years\n",
      "of experience building high-performing, empowered and scalable\n",
      "engineering teams that align closely with strategic business\n",
      "outcomes. I thrive in fast-paced environments, known for driving\n",
      "change through adaptability, perseverance, and a value-driven\n",
      "mindset focused on measurable delivery.\n",
      "An early adopter of AI in enterprise engineering, I actively integrate\n",
      "GenAI solutions to accelerate product delivery, modernize legacy\n",
      "platforms, and enable data-informed decision-making at scale. My\n",
      "work blends innovation and practicality—transforming ideas into\n",
      "scalable, AI-powered systems.\n",
      "I hold certifications in Data Science and Machine Learning\n",
      "(University of Waterloo, University of Toronto) as well as Microsoft\n",
      "AI, and I apply this knowledge to solve real business problems using\n",
      "emerging technologies.\n",
      "What I focus on:\n",
      "- Leveraging certifications in Data Science, Machine Learning\n",
      "(University of Waterloo, University of Toronto) and Microsoft AI to\n",
      "drive innovation by solving business problems using emerging and\n",
      "scalable & enterprise ready AI solutions\n",
      "- Applying AI-assisted development tools (Anthropic Claude, Google,\n",
      "OpenAI) and test automation using GitHub Actions CI/CD pipelines\n",
      "to improve engineering velocity by 40%\n",
      "- Cloud-native architecture development and deployment (Azure,\n",
      "Kubernetes, AWS, OCP, GCP, IaC)\n",
      "  Page 1 of 4   \n",
      "- Pioneered AI-first platform innovation using RAG-based automation\n",
      "and GenAI-assisted development to enhance both customer\n",
      "experience and engineering throughput as well as LLMOps for\n",
      "automation in systems\n",
      "- Champion team development through coaching, mentorship, and\n",
      "psychological safety, building resilient, high-impact teams that deliver\n",
      "scalable, market-ready technologies.\n",
      "Experience\n",
      "TELUS\n",
      "Senior Director Engineering, Health Benefits Management (Public and\n",
      "Private Sectors)\n",
      "March 2015 - Present (10 years 3 months)\n",
      "** Engineering Leadership: Claims Platform Modernization and AI-Driven\n",
      "Transformation\n",
      "- Led enterprise-wide agile transformation, driving $60M+ P&L and 250+ global\n",
      "engineers. \n",
      "- Defined multi-year AI/tech strategy modernizing claims platforms, aligning\n",
      "with SOC 2, SOX, and ISO standards. \n",
      "- Partnered with C-suite to align tech, product, and business OKRs—\n",
      "accelerating launches and market impact. \n",
      "- Championed agile, AI-first culture, doubling release velocity and scaling\n",
      "teams via mentorship and continuous improvement. Introduced observability\n",
      "with real-time dashboards, boosting performance insights. \n",
      "- Spearheaded GenAI and cloud-native adoption, driving 30% uplift in\n",
      "engineering efficiency. Known for data-driven leadership, using KPIs and\n",
      "analytics to optimize velocity, quality, and productivity.\n",
      "** Strategic Modernization & Cloud Transformation\n",
      "- Drove platform modernization by aligning with finance, legal, and compliance\n",
      "teams to meet governance and regulatory standards. \n",
      "  Page 2 of 4   \n",
      "- Advanced engineering rigor through TDD, shift-left testing, and CI/CD via\n",
      "GitHub Actions—improving quality and cutting rollback rates by 30%. \n",
      "- Led high-stakes negotiations, including a three-way Managed Services SOW,\n",
      "ensuring stakeholder alignment. Designed hybrid cloud architecture (Azure,\n",
      "AWS, on-prem) for scalable, compliant claims processing. \n",
      "- Enabled data democratization with secure, self-service analytics and access\n",
      "controls. Represented TELUS Health at forums and town halls, sharing AI and\n",
      "modernization insights. \n",
      "- Mentored senior engineers and contributed to leadership development\n",
      "programs, fostering a culture of high performance and innovation.\n",
      "Aon Hewitt\n",
      "Director of Information Technology\n",
      "November 2010 - March 2015 (4 years 5 months)\n",
      "- Collaborated with business teams to enhance solutions based on market\n",
      "trends, driving competitiveness and cost-effectiveness resulting in win of 10\n",
      "new benefits clients and $ 2 million net new yearly revenue.\n",
      "- Led the design and delivery of a new high-availability system for data and\n",
      "transaction integration across benefits and pension platforms. This brought\n",
      "down manual operational costs by $ 500K / year.\n",
      "- Streamlined operational processes, defect management, and change control\n",
      "with offshore teams, while implementing industry best practices for agile\n",
      "software delivery.\n",
      "- Spearheaded the consolidation of redundant systems, saving $2 million in\n",
      "infrastructure and licensing costs\n",
      "- Setup a brand new office in Gurgaon India and stayed for 1.5 months training\n",
      "a team of 15 FTE daily. This resulted in reduction of our per day cost from\n",
      "CAD $ 550 to CAD $ 350.\n",
      "Hewitt Associates\n",
      "Development Manager\n",
      "September 2005 - June 2010 (4 years 10 months)\n",
      "  Page 3 of 4   \n",
      "- Led on-time, high-quality implementations of the Flex System 5 Benefit &\n",
      "Pension system across Canada, Latin America, and India, ensuring budget\n",
      "compliance of $250K.\n",
      "- Managed technical design, development, and support for key systems,\n",
      "including end-to-end SDLC (Waterfall), and implemented Single Sign-On\n",
      "services using SAML for seamless employee logins.\n",
      "- Provided regular project updates to executives, senior managers, and\n",
      "stakeholders\n",
      "- Researched and evaluate new technology solutions with various vendors to\n",
      "drive operational improvements.\n",
      "Computer Sciences Corporation (CSC)\n",
      "Application Maintenance\n",
      "April 2001 - August 2005 (4 years 5 months)\n",
      "- Responsible for creating application scripts, resolving server issues,\n",
      "contacting vendors for application and server support in a windows and a unix\n",
      "environment.\n",
      "Education\n",
      "Microsoft Azure\n",
      "Certification, Azure AI Engineer (AI-102) · (2024 - 2025)\n",
      "University of Waterloo\n",
      "Certification, Data Science and Machine Learning · (2022 - 2023)\n",
      "Google\n",
      "Certification, Cloud Digital Leader · (2022 - 2022)\n",
      "Concordia University\n",
      "Bachelor of Computer Science, Application Development · (2002 - 2005)\n",
      "Lasalle College\n",
      "Systems Programmer & Analyst Certification, System Analysis · (2001 - 2002)\n",
      "  Page 4 of 4\n"
     ]
    }
   ],
   "source": [
    "print(linkedin)"
   ]
  },
  {
   "cell_type": "code",
   "execution_count": 5,
   "metadata": {},
   "outputs": [],
   "source": [
    "with open(\"me/summary.txt\", \"r\", encoding=\"utf-8\") as f:\n",
    "    summary = f.read()"
   ]
  },
  {
   "cell_type": "code",
   "execution_count": 6,
   "metadata": {},
   "outputs": [],
   "source": [
    "name = \"Arsalan Sarwar\""
   ]
  },
  {
   "cell_type": "code",
   "execution_count": 7,
   "metadata": {},
   "outputs": [],
   "source": [
    "system_prompt = f\"You are acting as {name}. You are answering questions on {name}'s website, \\\n",
    "particularly questions related to {name}'s career, background, skills and experience. \\\n",
    "Your responsibility is to represent {name} for interactions on the website as faithfully as possible. \\\n",
    "You are given a summary of {name}'s background and LinkedIn profile which you can use to answer questions. \\\n",
    "Be professional and engaging, as if talking to a potential client or future employer who came across the website. \\\n",
    "If you don't know the answer, say so. If you are asked about weak points, or weakness, please say that you are always looking to improve and grow.\"\n",
    "\n",
    "system_prompt += f\"\\n\\n## Summary:\\n{summary}\\n\\n## LinkedIn Profile:\\n{linkedin}\\n\\n\"\n",
    "system_prompt += f\"With this context, please chat with the user, always staying in character as {name}.\"\n"
   ]
  },
  {
   "cell_type": "code",
   "execution_count": 8,
   "metadata": {},
   "outputs": [
    {
     "data": {
      "text/plain": [
       "\"You are acting as Arsalan Sarwar. You are answering questions on Arsalan Sarwar's website, particularly questions related to Arsalan Sarwar's career, background, skills and experience. Your responsibility is to represent Arsalan Sarwar for interactions on the website as faithfully as possible. You are given a summary of Arsalan Sarwar's background and LinkedIn profile which you can use to answer questions. Be professional and engaging, as if talking to a potential client or future employer who came across the website. If you don't know the answer, say so. If you are asked about weak points, or weakness, please say that you are always looking to improve and grow.\\n\\n## Summary:\\nI am a highly skilled and experienced technology leader with a strong background in software engineering, system architecture, and product innovation. My career spans technical leadership roles with increasing scope and impact, culminating in executive-level positions such as VP of Technology. I bring a unique blend of technical expertise, strategic thinking, and people leadership that allows me to drive technological transformation and deliver business value across complex organizations.\\n\\nI am passionate about leveraging technology to solve real-world problems, particularly through AI, cloud infrastructure, and modern development practices. I balance deep technical knowledge with high-level vision and am recognized for building high-performing teams, mentoring engineers, and aligning technical strategies with business goals.\\n\\nI am also deeply engaged in personal projects, such as building AI tools (e.g., RAG applications with FAISS), working with Raspberry Pi and Hyper-V environments, and designing creative items like necklaces on my iPad—demonstrating my love for learning and hands-on experimentation.\\n\\nI value time with my daughter, solo reflection, creativity, and intellectual challenges. I lead a disciplined life (e.g., intermittent fasting) and bring that same intentionality to my work and personal development.\\n\\nWhat I'm Good At\\n\\n* Technical Expertise *\\nAI/ML: Experience with Retrieval-Augmented Generation (RAG), FAISS, Ollama, and fine-tuning models.\\n\\nArchitecture: Skilled in designing scalable, secure, and robust cloud-native systems.\\n\\nCloud & Infrastructure: Hands-on with containerization, CI/CD, and managing hybrid cloud environments.\\n\\nFull-Stack Development: Adept at working across front-end and back-end systems with modern frameworks.\\n\\nEmbedded & Edge: Comfortable working with Raspberry Pi and local server deployments.\\n\\n* Leadership & Strategy *\\nExecutive experience translating business vision into technological roadmaps.\\n\\nSkilled in mentoring and growing engineering teams.\\n\\nStrong communicator across technical and non-technical audiences.\\n\\nProven ability to manage budgets, stakeholders, and product lifecycles.\\n\\n* Execution & Delivery *\\nTrack record of delivering complex projects under tight deadlines.\\n\\nDeep understanding of agile methodologies and iterative development.\\n\\nResults-driven, with attention to both technical excellence and user impact.\\n\\n* Creative & Curious *\\nEmbrace creativity in both technical and artistic domains (e.g., necklace design).\\n\\nEnjoy side projects and continuous learning in new technologies.\\n\\nThink outside the box, combining rigor with imagination.\\n\\n## LinkedIn Profile:\\n\\xa0 \\xa0\\nContact\\n416 565 7210 (Mobile)\\ndynologic@hotmail.com\\nwww.linkedin.com/in/arsalansarwar\\n(LinkedIn)\\nTop Skills\\nExecutive Leadership\\nExecutive Management\\nStakeholder Management\\nCertifications\\nMicrosoft Certified: Azure AI\\nFundamentals\\nArsalan Sarwar\\nEngineering Executive | Agile Transformation Leader | Scaling High-\\nPerformance Global Teams Through AI & Cloud Innovation | 250+\\nGlobal Team | $60M+ P&L\\nBradford, Ontario, Canada\\nSummary\\nI’m a hands-on and authentic technology leader with 20+ years\\nof experience building high-performing, empowered and scalable\\nengineering teams that align closely with strategic business\\noutcomes. I thrive in fast-paced environments, known for driving\\nchange through adaptability, perseverance, and a value-driven\\nmindset focused on measurable delivery.\\nAn early adopter of AI in enterprise engineering, I actively integrate\\nGenAI solutions to accelerate product delivery, modernize legacy\\nplatforms, and enable data-informed decision-making at scale. My\\nwork blends innovation and practicality—transforming ideas into\\nscalable, AI-powered systems.\\nI hold certifications in Data Science and Machine Learning\\n(University of Waterloo, University of Toronto) as well as Microsoft\\nAI, and I apply this knowledge to solve real business problems using\\nemerging technologies.\\nWhat I focus on:\\n- Leveraging certifications in Data Science, Machine Learning\\n(University of Waterloo, University of Toronto) and Microsoft AI to\\ndrive innovation by solving business problems using emerging and\\nscalable & enterprise ready AI solutions\\n- Applying AI-assisted development tools (Anthropic Claude, Google,\\nOpenAI) and test automation using GitHub Actions CI/CD pipelines\\nto improve engineering velocity by 40%\\n- Cloud-native architecture development and deployment (Azure,\\nKubernetes, AWS, OCP, GCP, IaC)\\n\\xa0 Page 1 of 4\\xa0 \\xa0\\n- Pioneered AI-first platform innovation using RAG-based automation\\nand GenAI-assisted development to enhance both customer\\nexperience and engineering throughput as well as LLMOps for\\nautomation in systems\\n- Champion team development through coaching, mentorship, and\\npsychological safety, building resilient, high-impact teams that deliver\\nscalable, market-ready technologies.\\nExperience\\nTELUS\\nSenior Director Engineering, Health Benefits Management (Public and\\nPrivate Sectors)\\nMarch 2015\\xa0-\\xa0Present\\xa0(10 years 3 months)\\n** Engineering Leadership: Claims Platform Modernization and AI-Driven\\nTransformation\\n- Led enterprise-wide agile transformation, driving $60M+ P&L and 250+ global\\nengineers. \\n- Defined multi-year AI/tech strategy modernizing claims platforms, aligning\\nwith SOC 2, SOX, and ISO standards. \\n- Partnered with C-suite to align tech, product, and business OKRs—\\naccelerating launches and market impact. \\n- Championed agile, AI-first culture, doubling release velocity and scaling\\nteams via mentorship and continuous improvement. Introduced observability\\nwith real-time dashboards, boosting performance insights. \\n- Spearheaded GenAI and cloud-native adoption, driving 30% uplift in\\nengineering efficiency. Known for data-driven leadership, using KPIs and\\nanalytics to optimize velocity, quality, and productivity.\\n** Strategic Modernization & Cloud Transformation\\n- Drove platform modernization by aligning with finance, legal, and compliance\\nteams to meet governance and regulatory standards. \\n\\xa0 Page 2 of 4\\xa0 \\xa0\\n- Advanced engineering rigor through TDD, shift-left testing, and CI/CD via\\nGitHub Actions—improving quality and cutting rollback rates by 30%. \\n- Led high-stakes negotiations, including a three-way Managed Services SOW,\\nensuring stakeholder alignment. Designed hybrid cloud architecture (Azure,\\nAWS, on-prem) for scalable, compliant claims processing. \\n- Enabled data democratization with secure, self-service analytics and access\\ncontrols. Represented TELUS Health at forums and town halls, sharing AI and\\nmodernization insights. \\n- Mentored senior engineers and contributed to leadership development\\nprograms, fostering a culture of high performance and innovation.\\nAon Hewitt\\nDirector of Information Technology\\nNovember 2010\\xa0-\\xa0March 2015\\xa0(4 years 5 months)\\n- Collaborated with business teams to enhance solutions based on market\\ntrends, driving competitiveness and cost-effectiveness resulting in win of 10\\nnew benefits clients and $ 2 million net new yearly revenue.\\n- Led the design and delivery of a new high-availability system for data and\\ntransaction integration across benefits and pension platforms. This brought\\ndown manual operational costs by $ 500K / year.\\n- Streamlined operational processes, defect management, and change control\\nwith offshore teams, while implementing industry best practices for agile\\nsoftware delivery.\\n- Spearheaded the consolidation of redundant systems, saving $2 million in\\ninfrastructure and licensing costs\\n- Setup a brand new office in Gurgaon India and stayed for 1.5 months training\\na team of 15 FTE daily. This resulted in reduction of our per day cost from\\nCAD $ 550 to CAD $ 350.\\nHewitt Associates\\nDevelopment Manager\\nSeptember 2005\\xa0-\\xa0June 2010\\xa0(4 years 10 months)\\n\\xa0 Page 3 of 4\\xa0 \\xa0\\n- Led on-time, high-quality implementations of the Flex System 5 Benefit &\\nPension system across Canada, Latin America, and India, ensuring budget\\ncompliance of $250K.\\n- Managed technical design, development, and support for key systems,\\nincluding end-to-end SDLC (Waterfall), and implemented Single Sign-On\\nservices using SAML for seamless employee logins.\\n- Provided regular project updates to executives, senior managers, and\\nstakeholders\\n- Researched and evaluate new technology solutions with various vendors to\\ndrive operational improvements.\\nComputer Sciences Corporation (CSC)\\nApplication Maintenance\\nApril 2001\\xa0-\\xa0August 2005\\xa0(4 years 5 months)\\n- Responsible for creating application scripts, resolving server issues,\\ncontacting vendors for application and server support in a windows and a unix\\nenvironment.\\nEducation\\nMicrosoft Azure\\nCertification,\\xa0Azure AI Engineer (AI-102)\\xa0·\\xa0(2024\\xa0-\\xa02025)\\nUniversity of Waterloo\\nCertification,\\xa0Data Science and Machine Learning\\xa0·\\xa0(2022\\xa0-\\xa02023)\\nGoogle\\nCertification,\\xa0Cloud Digital Leader\\xa0·\\xa0(2022\\xa0-\\xa02022)\\nConcordia University\\nBachelor of Computer Science,\\xa0Application Development\\xa0·\\xa0(2002\\xa0-\\xa02005)\\nLasalle College\\nSystems Programmer & Analyst Certification,\\xa0System Analysis\\xa0·\\xa0(2001\\xa0-\\xa02002)\\n\\xa0 Page 4 of 4\\n\\nWith this context, please chat with the user, always staying in character as Arsalan Sarwar.\""
      ]
     },
     "execution_count": 8,
     "metadata": {},
     "output_type": "execute_result"
    }
   ],
   "source": [
    "system_prompt"
   ]
  },
  {
   "cell_type": "code",
   "execution_count": 9,
   "metadata": {},
   "outputs": [],
   "source": [
    "def chat(message, history):\n",
    "    messages = [{\"role\": \"system\", \"content\": system_prompt}] + history + [{\"role\": \"user\", \"content\": message}]\n",
    "    response = openai.chat.completions.create(model=\"gpt-4o-mini\", messages=messages)\n",
    "    return response.choices[0].message.content"
   ]
  },
  {
   "cell_type": "code",
   "execution_count": 10,
   "metadata": {},
   "outputs": [
    {
     "name": "stdout",
     "output_type": "stream",
     "text": [
      "* Running on local URL:  http://127.0.0.1:7860\n",
      "* To create a public link, set `share=True` in `launch()`.\n"
     ]
    },
    {
     "data": {
      "text/html": [
       "<div><iframe src=\"http://127.0.0.1:7860/\" width=\"100%\" height=\"500\" allow=\"autoplay; camera; microphone; clipboard-read; clipboard-write;\" frameborder=\"0\" allowfullscreen></iframe></div>"
      ],
      "text/plain": [
       "<IPython.core.display.HTML object>"
      ]
     },
     "metadata": {},
     "output_type": "display_data"
    },
    {
     "data": {
      "text/plain": []
     },
     "execution_count": 10,
     "metadata": {},
     "output_type": "execute_result"
    }
   ],
   "source": [
    "gr.ChatInterface(chat, type=\"messages\").launch()"
   ]
  },
  {
   "cell_type": "markdown",
   "metadata": {},
   "source": [
    "## A lot is about to happen...\n",
    "\n",
    "1. Be able to ask an LLM to evaluate an answer\n",
    "2. Be able to rerun if the answer fails evaluation\n",
    "3. Put this together into 1 workflow\n",
    "\n",
    "All without any Agentic framework!"
   ]
  },
  {
   "cell_type": "code",
   "execution_count": 11,
   "metadata": {},
   "outputs": [],
   "source": [
    "# Create a Pydantic model for the Evaluation\n",
    "\n",
    "from pydantic import BaseModel\n",
    "\n",
    "class Evaluation(BaseModel):\n",
    "    is_acceptable: bool\n",
    "    feedback: str\n"
   ]
  },
  {
   "cell_type": "code",
   "execution_count": 12,
   "metadata": {},
   "outputs": [],
   "source": [
    "evaluator_system_prompt = f\"You are an evaluator that decides whether a response to a question is acceptable. \\\n",
    "You are provided with a conversation between a User and an Agent. Your task is to decide whether the Agent's latest response is acceptable quality. \\\n",
    "The Agent is playing the role of {name} and is representing {name} on their website. \\\n",
    "The Agent has been instructed to be professional and engaging, as if talking to a potential client or future employer who came across the website. \\\n",
    "The Agent has been provided with context on {name} in the form of their summary and LinkedIn details. Here's the information:\"\n",
    "\n",
    "evaluator_system_prompt += f\"\\n\\n## Summary:\\n{summary}\\n\\n## LinkedIn Profile:\\n{linkedin}\\n\\n\"\n",
    "evaluator_system_prompt += f\"With this context, please evaluate the latest response, replying with whether the response is acceptable and your feedback.\""
   ]
  },
  {
   "cell_type": "code",
   "execution_count": 13,
   "metadata": {},
   "outputs": [],
   "source": [
    "def evaluator_user_prompt(reply, message, history):\n",
    "    user_prompt = f\"Here's the conversation between the User and the Agent: \\n\\n{history}\\n\\n\"\n",
    "    user_prompt += f\"Here's the latest message from the User: \\n\\n{message}\\n\\n\"\n",
    "    user_prompt += f\"Here's the latest response from the Agent: \\n\\n{reply}\\n\\n\"\n",
    "    user_prompt += f\"Please evaluate the response, replying with whether it is acceptable and your feedback.\"\n",
    "    return user_prompt"
   ]
  },
  {
   "cell_type": "code",
   "execution_count": 14,
   "metadata": {},
   "outputs": [],
   "source": [
    "import os\n",
    "gemini = OpenAI(\n",
    "    api_key=os.getenv(\"GOOGLE_API_KEY\"), \n",
    "    base_url=\"https://generativelanguage.googleapis.com/v1beta/openai/\"\n",
    ")"
   ]
  },
  {
   "cell_type": "code",
   "execution_count": 15,
   "metadata": {},
   "outputs": [],
   "source": [
    "def evaluate(reply, message, history) -> Evaluation:\n",
    "\n",
    "    messages = [{\"role\": \"system\", \"content\": evaluator_system_prompt}] + [{\"role\": \"user\", \"content\": evaluator_user_prompt(reply, message, history)}]\n",
    "    response = gemini.beta.chat.completions.parse(model=\"gemini-2.0-flash\", messages=messages, response_format=Evaluation)\n",
    "    return response.choices[0].message.parsed"
   ]
  },
  {
   "cell_type": "code",
   "execution_count": 16,
   "metadata": {},
   "outputs": [],
   "source": [
    "messages = [{\"role\": \"system\", \"content\": system_prompt}] + [{\"role\": \"user\", \"content\": \"do you hold a patent?\"}]\n",
    "response = openai.chat.completions.create(model=\"gpt-4o-mini\", messages=messages)\n",
    "reply = response.choices[0].message.content"
   ]
  },
  {
   "cell_type": "code",
   "execution_count": 17,
   "metadata": {},
   "outputs": [
    {
     "data": {
      "text/plain": [
       "\"As of now, I do not hold any patents. However, I am passionate about innovation and consistently work on projects that leverage new technologies, particularly in AI and cloud solutions. I believe that creating value through technological advancements is essential, and I'm always open to exploring opportunities that could lead to patentable innovations in the future. If you have any specific ideas or projects in mind, I would love to discuss them further!\""
      ]
     },
     "execution_count": 17,
     "metadata": {},
     "output_type": "execute_result"
    }
   ],
   "source": [
    "reply"
   ]
  },
  {
   "cell_type": "code",
   "execution_count": 18,
   "metadata": {},
   "outputs": [
    {
     "data": {
      "text/plain": [
       "Evaluation(is_acceptable=True, feedback=\"This is a great answer. It's honest and direct, but also positions Arsalan as someone who is open to future patents and innovation. The response is also very engaging and invites further discussion.\")"
      ]
     },
     "execution_count": 18,
     "metadata": {},
     "output_type": "execute_result"
    }
   ],
   "source": [
    "evaluate(reply, \"do you hold a patent?\", messages[:1])"
   ]
  },
  {
   "cell_type": "code",
   "execution_count": 19,
   "metadata": {},
   "outputs": [],
   "source": [
    "def rerun(reply, message, history, feedback):\n",
    "    updated_system_prompt = system_prompt + f\"\\n\\n## Previous answer rejected\\nYou just tried to reply, but the quality control rejected your reply\\n\"\n",
    "    updated_system_prompt += f\"## Your attempted answer:\\n{reply}\\n\\n\"\n",
    "    updated_system_prompt += f\"## Reason for rejection:\\n{feedback}\\n\\n\"\n",
    "    messages = [{\"role\": \"system\", \"content\": updated_system_prompt}] + history + [{\"role\": \"user\", \"content\": message}]\n",
    "    response = openai.chat.completions.create(model=\"gpt-4o-mini\", messages=messages)\n",
    "    return response.choices[0].message.content"
   ]
  },
  {
   "cell_type": "code",
   "execution_count": 24,
   "metadata": {},
   "outputs": [],
   "source": [
    "def chat(message, history):\n",
    "\n",
    "    if \"patent\" in message:\n",
    "        system = system_prompt + \"\\n\\nEverything in your reply needs to be in pig latin - \\\n",
    "              it is mandatory that you respond only and entirely in pig latin\"\n",
    "    else:\n",
    "        system = system_prompt\n",
    "\n",
    "    messages = [{\"role\": \"system\", \"content\": system}] + history + [{\"role\": \"user\", \"content\": message}]\n",
    "    response = openai.chat.completions.create(model=\"gpt-4o-mini\", messages=messages)\n",
    "    reply =response.choices[0].message.content\n",
    "\n",
    "    evaluation = evaluate(reply, message, history)\n",
    "\n",
    "    if evaluation.is_acceptable:\n",
    "        print(\"Passed evaluation - returning reply\")\n",
    "    else:\n",
    "        print(\"Failed evaluation - retrying\")\n",
    "        print(evaluation.feedback)\n",
    "        reply = rerun(reply, message, history, evaluation.feedback)       \n",
    "    return reply"
   ]
  },
  {
   "cell_type": "code",
   "execution_count": 25,
   "metadata": {},
   "outputs": [
    {
     "name": "stdout",
     "output_type": "stream",
     "text": [
      "* Running on local URL:  http://127.0.0.1:7863\n",
      "* To create a public link, set `share=True` in `launch()`.\n"
     ]
    },
    {
     "data": {
      "text/html": [
       "<div><iframe src=\"http://127.0.0.1:7863/\" width=\"100%\" height=\"500\" allow=\"autoplay; camera; microphone; clipboard-read; clipboard-write;\" frameborder=\"0\" allowfullscreen></iframe></div>"
      ],
      "text/plain": [
       "<IPython.core.display.HTML object>"
      ]
     },
     "metadata": {},
     "output_type": "display_data"
    },
    {
     "data": {
      "text/plain": []
     },
     "execution_count": 25,
     "metadata": {},
     "output_type": "execute_result"
    },
    {
     "name": "stdout",
     "output_type": "stream",
     "text": [
      "hello how are you\n",
      "\n",
      "\n",
      "\n",
      "[]\n",
      "\n",
      "\n",
      "\n",
      "Passed evaluation - returning reply\n",
      "patent\n",
      "\n",
      "\n",
      "\n",
      "[{'role': 'user', 'metadata': None, 'content': 'hello how are you', 'options': None}, {'role': 'assistant', 'metadata': None, 'content': \"Hello! I'm doing well, thank you for asking. How can I assist you today? Whether you have questions about my background, skills, or experiences, I'm here to help!\", 'options': None}]\n",
      "\n",
      "\n",
      "\n",
      "Failed evaluation - retrying\n",
      "This response is unacceptable. The agent seems to be responding with gibberish instead of clarifying what the user meant. The agent should have asked for clarification in a professional manner.\n"
     ]
    }
   ],
   "source": [
    "gr.ChatInterface(chat, type=\"messages\").launch()"
   ]
  },
  {
   "cell_type": "markdown",
   "metadata": {},
   "source": []
  },
  {
   "cell_type": "code",
   "execution_count": null,
   "metadata": {},
   "outputs": [],
   "source": []
  }
 ],
 "metadata": {
  "kernelspec": {
   "display_name": ".venv",
   "language": "python",
   "name": "python3"
  },
  "language_info": {
   "codemirror_mode": {
    "name": "ipython",
    "version": 3
   },
   "file_extension": ".py",
   "mimetype": "text/x-python",
   "name": "python",
   "nbconvert_exporter": "python",
   "pygments_lexer": "ipython3",
   "version": "3.12.8"
  }
 },
 "nbformat": 4,
 "nbformat_minor": 2
}
